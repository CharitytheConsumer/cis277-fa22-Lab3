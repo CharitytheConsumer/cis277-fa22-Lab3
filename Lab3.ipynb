{
  "cells": [
    {
      "cell_type": "markdown",
      "metadata": {},
      "source": [
        "# Lab 3 - Video Game Reviews"
      ]
    },
    {
      "cell_type": "code",
      "execution_count": 1,
      "metadata": {
        "id": "gIWe8vk2fPX7"
      },
      "outputs": [],
      "source": [
        "import pandas as pd"
      ]
    },
    {
      "cell_type": "markdown",
      "metadata": {
        "id": "4N0ty0ecrWcn"
      },
      "source": [
        "## Import Data"
      ]
    },
    {
      "cell_type": "code",
      "execution_count": 2,
      "metadata": {
        "id": "qY7nb0rAgWrr"
      },
      "outputs": [],
      "source": [
        "df = pd.read_csv('imdb-videogames.csv')"
      ]
    },
    {
      "cell_type": "code",
      "execution_count": 3,
      "metadata": {
        "colab": {
          "base_uri": "https://localhost:8080/",
          "height": 359
        },
        "id": "eIkZ2SBehFrY",
        "outputId": "8952e428-b938-4933-b581-9be7ddf2cdea"
      },
      "outputs": [
        {
          "data": {
            "text/html": [
              "<div>\n",
              "<style scoped>\n",
              "    .dataframe tbody tr th:only-of-type {\n",
              "        vertical-align: middle;\n",
              "    }\n",
              "\n",
              "    .dataframe tbody tr th {\n",
              "        vertical-align: top;\n",
              "    }\n",
              "\n",
              "    .dataframe thead th {\n",
              "        text-align: right;\n",
              "    }\n",
              "</style>\n",
              "<table border=\"1\" class=\"dataframe\">\n",
              "  <thead>\n",
              "    <tr style=\"text-align: right;\">\n",
              "      <th></th>\n",
              "      <th>Unnamed: 0</th>\n",
              "      <th>name</th>\n",
              "      <th>url</th>\n",
              "      <th>year</th>\n",
              "      <th>certificate</th>\n",
              "      <th>rating</th>\n",
              "      <th>votes</th>\n",
              "      <th>plot summary</th>\n",
              "      <th>Action</th>\n",
              "      <th>Adventure</th>\n",
              "      <th>Comedy</th>\n",
              "      <th>Crime</th>\n",
              "      <th>Family</th>\n",
              "      <th>Fantasy</th>\n",
              "      <th>Mystery</th>\n",
              "      <th>Sci-Fi</th>\n",
              "      <th>Thriller</th>\n",
              "    </tr>\n",
              "  </thead>\n",
              "  <tbody>\n",
              "    <tr>\n",
              "      <th>0</th>\n",
              "      <td>0</td>\n",
              "      <td>Spider-Man</td>\n",
              "      <td>https://www.imdb.com/title/tt5807780/?ref_=adv...</td>\n",
              "      <td>2018.0</td>\n",
              "      <td>T</td>\n",
              "      <td>9.2</td>\n",
              "      <td>20,759</td>\n",
              "      <td>When a new villain threatens New York City, Pe...</td>\n",
              "      <td>True</td>\n",
              "      <td>True</td>\n",
              "      <td>False</td>\n",
              "      <td>False</td>\n",
              "      <td>False</td>\n",
              "      <td>True</td>\n",
              "      <td>False</td>\n",
              "      <td>False</td>\n",
              "      <td>False</td>\n",
              "    </tr>\n",
              "    <tr>\n",
              "      <th>1</th>\n",
              "      <td>1</td>\n",
              "      <td>Red Dead Redemption II</td>\n",
              "      <td>https://www.imdb.com/title/tt6161168/?ref_=adv...</td>\n",
              "      <td>2018.0</td>\n",
              "      <td>M</td>\n",
              "      <td>9.7</td>\n",
              "      <td>35,703</td>\n",
              "      <td>Amidst the decline of the Wild West at the tur...</td>\n",
              "      <td>True</td>\n",
              "      <td>True</td>\n",
              "      <td>False</td>\n",
              "      <td>True</td>\n",
              "      <td>False</td>\n",
              "      <td>False</td>\n",
              "      <td>False</td>\n",
              "      <td>False</td>\n",
              "      <td>False</td>\n",
              "    </tr>\n",
              "    <tr>\n",
              "      <th>2</th>\n",
              "      <td>2</td>\n",
              "      <td>Grand Theft Auto V</td>\n",
              "      <td>https://www.imdb.com/title/tt2103188/?ref_=adv...</td>\n",
              "      <td>2013.0</td>\n",
              "      <td>M</td>\n",
              "      <td>9.5</td>\n",
              "      <td>59,986</td>\n",
              "      <td>Three very different criminals team up for a s...</td>\n",
              "      <td>True</td>\n",
              "      <td>False</td>\n",
              "      <td>False</td>\n",
              "      <td>True</td>\n",
              "      <td>False</td>\n",
              "      <td>False</td>\n",
              "      <td>False</td>\n",
              "      <td>False</td>\n",
              "      <td>False</td>\n",
              "    </tr>\n",
              "    <tr>\n",
              "      <th>3</th>\n",
              "      <td>3</td>\n",
              "      <td>God of War</td>\n",
              "      <td>https://www.imdb.com/title/tt5838588/?ref_=adv...</td>\n",
              "      <td>2018.0</td>\n",
              "      <td>M</td>\n",
              "      <td>9.6</td>\n",
              "      <td>26,118</td>\n",
              "      <td>After wiping out the gods of Mount Olympus, Kr...</td>\n",
              "      <td>True</td>\n",
              "      <td>True</td>\n",
              "      <td>False</td>\n",
              "      <td>False</td>\n",
              "      <td>False</td>\n",
              "      <td>False</td>\n",
              "      <td>False</td>\n",
              "      <td>False</td>\n",
              "      <td>False</td>\n",
              "    </tr>\n",
              "    <tr>\n",
              "      <th>4</th>\n",
              "      <td>4</td>\n",
              "      <td>Uncharted 4: A Thief's End</td>\n",
              "      <td>https://www.imdb.com/title/tt3334704/?ref_=adv...</td>\n",
              "      <td>2016.0</td>\n",
              "      <td>T</td>\n",
              "      <td>9.5</td>\n",
              "      <td>28,722</td>\n",
              "      <td>Thrown back into the dangerous underworld he'd...</td>\n",
              "      <td>True</td>\n",
              "      <td>True</td>\n",
              "      <td>False</td>\n",
              "      <td>False</td>\n",
              "      <td>False</td>\n",
              "      <td>False</td>\n",
              "      <td>False</td>\n",
              "      <td>False</td>\n",
              "      <td>False</td>\n",
              "    </tr>\n",
              "  </tbody>\n",
              "</table>\n",
              "</div>"
            ],
            "text/plain": [
              "   Unnamed: 0                        name  \\\n",
              "0           0                  Spider-Man   \n",
              "1           1      Red Dead Redemption II   \n",
              "2           2          Grand Theft Auto V   \n",
              "3           3                  God of War   \n",
              "4           4  Uncharted 4: A Thief's End   \n",
              "\n",
              "                                                 url    year certificate  \\\n",
              "0  https://www.imdb.com/title/tt5807780/?ref_=adv...  2018.0           T   \n",
              "1  https://www.imdb.com/title/tt6161168/?ref_=adv...  2018.0           M   \n",
              "2  https://www.imdb.com/title/tt2103188/?ref_=adv...  2013.0           M   \n",
              "3  https://www.imdb.com/title/tt5838588/?ref_=adv...  2018.0           M   \n",
              "4  https://www.imdb.com/title/tt3334704/?ref_=adv...  2016.0           T   \n",
              "\n",
              "  rating   votes                                       plot summary  Action  \\\n",
              "0    9.2  20,759  When a new villain threatens New York City, Pe...    True   \n",
              "1    9.7  35,703  Amidst the decline of the Wild West at the tur...    True   \n",
              "2    9.5  59,986  Three very different criminals team up for a s...    True   \n",
              "3    9.6  26,118  After wiping out the gods of Mount Olympus, Kr...    True   \n",
              "4    9.5  28,722  Thrown back into the dangerous underworld he'd...    True   \n",
              "\n",
              "   Adventure  Comedy  Crime  Family  Fantasy  Mystery  Sci-Fi  Thriller  \n",
              "0       True   False  False   False     True    False   False     False  \n",
              "1       True   False   True   False    False    False   False     False  \n",
              "2      False   False   True   False    False    False   False     False  \n",
              "3       True   False  False   False    False    False   False     False  \n",
              "4       True   False  False   False    False    False   False     False  "
            ]
          },
          "execution_count": 3,
          "metadata": {},
          "output_type": "execute_result"
        }
      ],
      "source": [
        "df.head()"
      ]
    },
    {
      "cell_type": "code",
      "execution_count": 4,
      "metadata": {
        "colab": {
          "base_uri": "https://localhost:8080/"
        },
        "id": "eR6x6BUwhptZ",
        "outputId": "e2b94951-3d5d-47bf-e3e4-c5c571d2d879"
      },
      "outputs": [
        {
          "data": {
            "text/plain": [
              "(20805, 17)"
            ]
          },
          "execution_count": 4,
          "metadata": {},
          "output_type": "execute_result"
        }
      ],
      "source": [
        "df.shape"
      ]
    },
    {
      "cell_type": "code",
      "execution_count": 5,
      "metadata": {
        "colab": {
          "base_uri": "https://localhost:8080/"
        },
        "id": "kx4xO7-biEGK",
        "outputId": "a5d0a366-f1eb-46e6-a56b-59699a4d9fad"
      },
      "outputs": [
        {
          "name": "stdout",
          "output_type": "stream",
          "text": [
            "<class 'pandas.core.frame.DataFrame'>\n",
            "RangeIndex: 20805 entries, 0 to 20804\n",
            "Data columns (total 17 columns):\n",
            " #   Column        Non-Null Count  Dtype  \n",
            "---  ------        --------------  -----  \n",
            " 0   Unnamed: 0    20805 non-null  int64  \n",
            " 1   name          20805 non-null  object \n",
            " 2   url           20805 non-null  object \n",
            " 3   year          20538 non-null  float64\n",
            " 4   certificate   7905 non-null   object \n",
            " 5   rating        11602 non-null  object \n",
            " 6   votes         11602 non-null  object \n",
            " 7   plot summary  20805 non-null  object \n",
            " 8   Action        20805 non-null  bool   \n",
            " 9   Adventure     20805 non-null  bool   \n",
            " 10  Comedy        20805 non-null  bool   \n",
            " 11  Crime         20805 non-null  bool   \n",
            " 12  Family        20805 non-null  bool   \n",
            " 13  Fantasy       20805 non-null  bool   \n",
            " 14  Mystery       20805 non-null  bool   \n",
            " 15  Sci-Fi        20805 non-null  bool   \n",
            " 16  Thriller      20805 non-null  bool   \n",
            "dtypes: bool(9), float64(1), int64(1), object(6)\n",
            "memory usage: 1.4+ MB\n"
          ]
        }
      ],
      "source": [
        "df.info()"
      ]
    },
    {
      "cell_type": "code",
      "execution_count": 6,
      "metadata": {},
      "outputs": [
        {
          "data": {
            "text/plain": [
              "T            2474\n",
              "E            2006\n",
              "M            1820\n",
              "E10+          814\n",
              "Unrated       241\n",
              "K-A           229\n",
              "Not Rated     184\n",
              "AO             32\n",
              "GA             26\n",
              "EC             25\n",
              "CE             13\n",
              "12              9\n",
              "PG-13           7\n",
              "MA-13           7\n",
              "Approved        4\n",
              "G               4\n",
              "MA-17           3\n",
              "PG              3\n",
              "TV-MA           2\n",
              "Passed          1\n",
              "TV-14           1\n",
              "Name: certificate, dtype: int64"
            ]
          },
          "execution_count": 6,
          "metadata": {},
          "output_type": "execute_result"
        }
      ],
      "source": [
        "df.certificate.value_counts()"
      ]
    },
    {
      "cell_type": "markdown",
      "metadata": {},
      "source": [
        "## Questions"
      ]
    },
    {
      "cell_type": "markdown",
      "metadata": {},
      "source": [
        "Data Cleanup"
      ]
    },
    {
      "cell_type": "code",
      "execution_count": 7,
      "metadata": {},
      "outputs": [],
      "source": [
        "#rating\n",
        "df.rating.replace('*9.0', '9.0', inplace=True)\n",
        "df[df.rating=='*9.0']\n",
        "df.rating = df.rating.astype(float)"
      ]
    },
    {
      "cell_type": "code",
      "execution_count": 149,
      "metadata": {},
      "outputs": [
        {
          "name": "stdout",
          "output_type": "stream",
          "text": [
            "<class 'pandas.core.frame.DataFrame'>\n",
            "RangeIndex: 20805 entries, 0 to 20804\n",
            "Data columns (total 17 columns):\n",
            " #   Column        Non-Null Count  Dtype  \n",
            "---  ------        --------------  -----  \n",
            " 0   Unnamed: 0    20805 non-null  int64  \n",
            " 1   name          20805 non-null  object \n",
            " 2   url           20805 non-null  object \n",
            " 3   year          20538 non-null  float64\n",
            " 4   certificate   7905 non-null   object \n",
            " 5   rating        11602 non-null  float64\n",
            " 6   votes         11602 non-null  float64\n",
            " 7   plot summary  20805 non-null  object \n",
            " 8   Action        20805 non-null  bool   \n",
            " 9   Adventure     20805 non-null  bool   \n",
            " 10  Comedy        20805 non-null  bool   \n",
            " 11  Crime         20805 non-null  bool   \n",
            " 12  Family        20805 non-null  bool   \n",
            " 13  Fantasy       20805 non-null  bool   \n",
            " 14  Mystery       20805 non-null  bool   \n",
            " 15  Sci-Fi        20805 non-null  bool   \n",
            " 16  Thriller      20805 non-null  bool   \n",
            "dtypes: bool(9), float64(3), int64(1), object(4)\n",
            "memory usage: 1.4+ MB\n"
          ]
        }
      ],
      "source": [
        "#votes\n",
        "df['votes'].replace(',', '', regex=True,inplace = True)\n",
        "df.head(5)\n",
        "\n",
        "df.votes = df.votes.astype(float)\n",
        "df.info()"
      ]
    },
    {
      "cell_type": "markdown",
      "metadata": {},
      "source": [
        "### 1. What is the average rating for Action games?"
      ]
    },
    {
      "cell_type": "code",
      "execution_count": 215,
      "metadata": {},
      "outputs": [
        {
          "data": {
            "text/plain": [
              "Action\n",
              "False    6.998812\n",
              "True     7.069257\n",
              "Name: rating, dtype: float64"
            ]
          },
          "execution_count": 215,
          "metadata": {},
          "output_type": "execute_result"
        }
      ],
      "source": [
        "df.groupby('Action').rating.mean()"
      ]
    },
    {
      "cell_type": "markdown",
      "metadata": {},
      "source": [
        "### 2. What is the average rating of games after 2010? What is the average rating of games before (and including) 2010?"
      ]
    },
    {
      "cell_type": "code",
      "execution_count": 10,
      "metadata": {},
      "outputs": [
        {
          "data": {
            "text/plain": [
              "rating    7.119838\n",
              "dtype: float64"
            ]
          },
          "execution_count": 10,
          "metadata": {},
          "output_type": "execute_result"
        }
      ],
      "source": [
        "#getting rid of unique things\n",
        "\n",
        "#----------------------------------------------------\n",
        "# df['rating'].mean()\n",
        "# x = df[df['year'] > 2010]\n",
        "\n",
        "x = df[['rating']][\n",
        "        (df['year'] > 2010)]\n",
        "x = x.mean()\n",
        "x"
      ]
    },
    {
      "cell_type": "markdown",
      "metadata": {},
      "source": [
        "### 3. What games include \"Fallout\" in their title?"
      ]
    },
    {
      "cell_type": "code",
      "execution_count": 12,
      "metadata": {},
      "outputs": [
        {
          "data": {
            "text/plain": [
              "44"
            ]
          },
          "execution_count": 12,
          "metadata": {},
          "output_type": "execute_result"
        }
      ],
      "source": [
        "fall = df['name'].str.contains('Fallout')\n",
        "fall.sum()"
      ]
    },
    {
      "cell_type": "markdown",
      "metadata": {},
      "source": [
        "### 4. What is the most common certificate for Sci-Fi games? "
      ]
    },
    {
      "cell_type": "code",
      "execution_count": 214,
      "metadata": {},
      "outputs": [
        {
          "data": {
            "text/html": [
              "<div>\n",
              "<style scoped>\n",
              "    .dataframe tbody tr th:only-of-type {\n",
              "        vertical-align: middle;\n",
              "    }\n",
              "\n",
              "    .dataframe tbody tr th {\n",
              "        vertical-align: top;\n",
              "    }\n",
              "\n",
              "    .dataframe thead th {\n",
              "        text-align: right;\n",
              "    }\n",
              "</style>\n",
              "<table border=\"1\" class=\"dataframe\">\n",
              "  <thead>\n",
              "    <tr style=\"text-align: right;\">\n",
              "      <th></th>\n",
              "      <th>Sci-Fi</th>\n",
              "      <th>certificate</th>\n",
              "    </tr>\n",
              "  </thead>\n",
              "  <tbody>\n",
              "    <tr>\n",
              "      <th>0</th>\n",
              "      <td>False</td>\n",
              "      <td>T</td>\n",
              "    </tr>\n",
              "  </tbody>\n",
              "</table>\n",
              "</div>"
            ],
            "text/plain": [
              "   Sci-Fi certificate\n",
              "0   False           T"
            ]
          },
          "execution_count": 214,
          "metadata": {},
          "output_type": "execute_result"
        }
      ],
      "source": [
        "#mode()\n",
        "df[['Sci-Fi', 'certificate']].mode()\n"
      ]
    },
    {
      "cell_type": "markdown",
      "metadata": {},
      "source": [
        "### 5. What percent of Thiller games have M or AO certificate?"
      ]
    },
    {
      "cell_type": "code",
      "execution_count": 159,
      "metadata": {},
      "outputs": [
        {
          "name": "stdout",
          "output_type": "stream",
          "text": [
            "Number of Thrillers with M or AO:  200\n",
            "Total number of Thrillers: 523\n",
            "Percent:  0.3824091778202677\n"
          ]
        }
      ],
      "source": [
        "#percent?\n",
        "\n",
        "m_ao_thrill = df[ (df.Thriller == True) & (df.certificate == 'M') | (df.certificate == 'AO') ]\n",
        "print('Number of Thrillers with M or AO: ', len(m_ao_thrill))\n",
        "\n",
        "thriller = df[(df.Thriller == True)]\n",
        "print('Total number of Thrillers:', len(thriller))\n",
        "\n",
        "print('Percent: ', len(m_ao_thrill) / len(thriller))"
      ]
    },
    {
      "cell_type": "markdown",
      "metadata": {},
      "source": [
        "### 6. What is the mean and median rating for Family games? for Action games?"
      ]
    },
    {
      "cell_type": "code",
      "execution_count": 15,
      "metadata": {},
      "outputs": [
        {
          "data": {
            "text/html": [
              "<div>\n",
              "<style scoped>\n",
              "    .dataframe tbody tr th:only-of-type {\n",
              "        vertical-align: middle;\n",
              "    }\n",
              "\n",
              "    .dataframe tbody tr th {\n",
              "        vertical-align: top;\n",
              "    }\n",
              "\n",
              "    .dataframe thead tr th {\n",
              "        text-align: left;\n",
              "    }\n",
              "\n",
              "    .dataframe thead tr:last-of-type th {\n",
              "        text-align: right;\n",
              "    }\n",
              "</style>\n",
              "<table border=\"1\" class=\"dataframe\">\n",
              "  <thead>\n",
              "    <tr>\n",
              "      <th></th>\n",
              "      <th></th>\n",
              "      <th colspan=\"2\" halign=\"left\">rating</th>\n",
              "    </tr>\n",
              "    <tr>\n",
              "      <th></th>\n",
              "      <th></th>\n",
              "      <th>mean</th>\n",
              "      <th>median</th>\n",
              "    </tr>\n",
              "    <tr>\n",
              "      <th>Family</th>\n",
              "      <th>Action</th>\n",
              "      <th></th>\n",
              "      <th></th>\n",
              "    </tr>\n",
              "  </thead>\n",
              "  <tbody>\n",
              "    <tr>\n",
              "      <th rowspan=\"2\" valign=\"top\">False</th>\n",
              "      <th>False</th>\n",
              "      <td>7.163801</td>\n",
              "      <td>7.4</td>\n",
              "    </tr>\n",
              "    <tr>\n",
              "      <th>True</th>\n",
              "      <td>7.082445</td>\n",
              "      <td>7.3</td>\n",
              "    </tr>\n",
              "    <tr>\n",
              "      <th rowspan=\"2\" valign=\"top\">True</th>\n",
              "      <th>False</th>\n",
              "      <td>6.456848</td>\n",
              "      <td>6.8</td>\n",
              "    </tr>\n",
              "    <tr>\n",
              "      <th>True</th>\n",
              "      <td>6.940027</td>\n",
              "      <td>7.1</td>\n",
              "    </tr>\n",
              "  </tbody>\n",
              "</table>\n",
              "</div>"
            ],
            "text/plain": [
              "                 rating       \n",
              "                   mean median\n",
              "Family Action                 \n",
              "False  False   7.163801    7.4\n",
              "       True    7.082445    7.3\n",
              "True   False   6.456848    6.8\n",
              "       True    6.940027    7.1"
            ]
          },
          "execution_count": 15,
          "metadata": {},
          "output_type": "execute_result"
        }
      ],
      "source": [
        "df.groupby(['Family', 'Action']).agg( {\n",
        "    'rating': ['mean', 'median']\n",
        "    })"
      ]
    },
    {
      "cell_type": "markdown",
      "metadata": {},
      "source": [
        "### 7. Which game from 2018 got the most votes? "
      ]
    },
    {
      "cell_type": "code",
      "execution_count": 209,
      "metadata": {},
      "outputs": [
        {
          "data": {
            "text/plain": [
              "votes    year    name                         \n",
              "60597.0  2013.0  The Last of Us                   60597.0\n",
              "60591.0  2013.0  The Last of Us                   60591.0\n",
              "60590.0  2013.0  The Last of Us                   60590.0\n",
              "59996.0  2013.0  Grand Theft Auto V               59996.0\n",
              "59986.0  2013.0  Grand Theft Auto V               59986.0\n",
              "39632.0  2004.0  Grand Theft Auto: San Andreas    39632.0\n",
              "39629.0  2004.0  Grand Theft Auto: San Andreas    39629.0\n",
              "35709.0  2018.0  Red Dead Redemption II           35709.0\n",
              "35703.0  2018.0  Red Dead Redemption II           35703.0\n",
              "34555.0  2008.0  Grand Theft Auto IV              34555.0\n",
              "Name: votes, dtype: float64"
            ]
          },
          "execution_count": 209,
          "metadata": {},
          "output_type": "execute_result"
        }
      ],
      "source": [
        "#df[df.year == '2018']\n",
        "df[df.year == '2018']\n",
        "df.groupby(['votes','year','name']).votes.max().sort_values(ascending=False).head(10)"
      ]
    },
    {
      "cell_type": "markdown",
      "metadata": {},
      "source": [
        "### 8. What is the average rating for each genre (Action, Adventure, Comedy, Crime, Family, Fantasy, Mystery, Sci-Fi, and Thriller)?"
      ]
    },
    {
      "cell_type": "code",
      "execution_count": 167,
      "metadata": {},
      "outputs": [
        {
          "data": {
            "text/html": [
              "<div>\n",
              "<style scoped>\n",
              "    .dataframe tbody tr th:only-of-type {\n",
              "        vertical-align: middle;\n",
              "    }\n",
              "\n",
              "    .dataframe tbody tr th {\n",
              "        vertical-align: top;\n",
              "    }\n",
              "\n",
              "    .dataframe thead th {\n",
              "        text-align: right;\n",
              "    }\n",
              "</style>\n",
              "<table border=\"1\" class=\"dataframe\">\n",
              "  <thead>\n",
              "    <tr style=\"text-align: right;\">\n",
              "      <th></th>\n",
              "      <th>Type</th>\n",
              "      <th>AverageRating</th>\n",
              "    </tr>\n",
              "  </thead>\n",
              "  <tbody>\n",
              "    <tr>\n",
              "      <th>0</th>\n",
              "      <td>Thriller</td>\n",
              "      <td>7.107143</td>\n",
              "    </tr>\n",
              "    <tr>\n",
              "      <th>1</th>\n",
              "      <td>Sci-Fi</td>\n",
              "      <td>6.949254</td>\n",
              "    </tr>\n",
              "  </tbody>\n",
              "</table>\n",
              "</div>"
            ],
            "text/plain": [
              "       Type  AverageRating\n",
              "0  Thriller       7.107143\n",
              "1    Sci-Fi       6.949254"
            ]
          },
          "execution_count": 167,
          "metadata": {},
          "output_type": "execute_result"
        }
      ],
      "source": [
        "# df.groupby(['Action', 'Adventure',\n",
        "# 'Comedy', 'Crime', 'Family', 'Fantasy',\n",
        "# 'Mystery', 'Sci-Fi', 'Thriller']).agg( {\n",
        "#     'rating': ['mean'],\n",
        "#     })\n",
        "thriller = df [df.Thriller].rating.mean()\n",
        "sci = df [df['Sci-Fi']].rating.mean()\n",
        "\n",
        "results_df = pd.DataFrame({'Type': ['Thriller', 'Sci-Fi'], 'AverageRating': [thriller, sci]})\n",
        "results_df"
      ]
    },
    {
      "cell_type": "markdown",
      "metadata": {},
      "source": [
        "### 9. Which year's games received the most votes?"
      ]
    },
    {
      "cell_type": "code",
      "execution_count": 18,
      "metadata": {},
      "outputs": [
        {
          "data": {
            "text/plain": [
              "votes    year    name              \n",
              "60597.0  2013.0  The Last of Us        60597.0\n",
              "60591.0  2013.0  The Last of Us        60591.0\n",
              "60590.0  2013.0  The Last of Us        60590.0\n",
              "59996.0  2013.0  Grand Theft Auto V    59996.0\n",
              "59986.0  2013.0  Grand Theft Auto V    59986.0\n",
              "Name: votes, dtype: float64"
            ]
          },
          "execution_count": 18,
          "metadata": {},
          "output_type": "execute_result"
        }
      ],
      "source": [
        "#we'll be using 'groupby' to answer this\n",
        "#or else itll take forever to figure out\n",
        "\n",
        "df.groupby(['votes','year','name']).votes.max().sort_values(ascending=False).head(5)"
      ]
    },
    {
      "cell_type": "markdown",
      "metadata": {},
      "source": [
        "### 10. What's the average number of votes for games that are not Action games?"
      ]
    },
    {
      "cell_type": "code",
      "execution_count": 43,
      "metadata": {},
      "outputs": [
        {
          "data": {
            "text/html": [
              "<div>\n",
              "<style scoped>\n",
              "    .dataframe tbody tr th:only-of-type {\n",
              "        vertical-align: middle;\n",
              "    }\n",
              "\n",
              "    .dataframe tbody tr th {\n",
              "        vertical-align: top;\n",
              "    }\n",
              "\n",
              "    .dataframe thead tr th {\n",
              "        text-align: left;\n",
              "    }\n",
              "\n",
              "    .dataframe thead tr:last-of-type th {\n",
              "        text-align: right;\n",
              "    }\n",
              "</style>\n",
              "<table border=\"1\" class=\"dataframe\">\n",
              "  <thead>\n",
              "    <tr>\n",
              "      <th></th>\n",
              "      <th></th>\n",
              "      <th></th>\n",
              "      <th></th>\n",
              "      <th></th>\n",
              "      <th></th>\n",
              "      <th></th>\n",
              "      <th></th>\n",
              "      <th>votes</th>\n",
              "    </tr>\n",
              "    <tr>\n",
              "      <th></th>\n",
              "      <th></th>\n",
              "      <th></th>\n",
              "      <th></th>\n",
              "      <th></th>\n",
              "      <th></th>\n",
              "      <th></th>\n",
              "      <th></th>\n",
              "      <th>mean</th>\n",
              "    </tr>\n",
              "    <tr>\n",
              "      <th>Adventure</th>\n",
              "      <th>Comedy</th>\n",
              "      <th>Crime</th>\n",
              "      <th>Family</th>\n",
              "      <th>Fantasy</th>\n",
              "      <th>Mystery</th>\n",
              "      <th>Sci-Fi</th>\n",
              "      <th>Thriller</th>\n",
              "      <th></th>\n",
              "    </tr>\n",
              "  </thead>\n",
              "  <tbody>\n",
              "    <tr>\n",
              "      <th rowspan=\"5\" valign=\"top\">False</th>\n",
              "      <th rowspan=\"5\" valign=\"top\">False</th>\n",
              "      <th rowspan=\"5\" valign=\"top\">False</th>\n",
              "      <th rowspan=\"5\" valign=\"top\">False</th>\n",
              "      <th rowspan=\"5\" valign=\"top\">False</th>\n",
              "      <th rowspan=\"4\" valign=\"top\">False</th>\n",
              "      <th rowspan=\"2\" valign=\"top\">False</th>\n",
              "      <th>False</th>\n",
              "      <td>116.696826</td>\n",
              "    </tr>\n",
              "    <tr>\n",
              "      <th>True</th>\n",
              "      <td>2337.699115</td>\n",
              "    </tr>\n",
              "    <tr>\n",
              "      <th rowspan=\"2\" valign=\"top\">True</th>\n",
              "      <th>False</th>\n",
              "      <td>278.133333</td>\n",
              "    </tr>\n",
              "    <tr>\n",
              "      <th>True</th>\n",
              "      <td>1067.435484</td>\n",
              "    </tr>\n",
              "    <tr>\n",
              "      <th>True</th>\n",
              "      <th>False</th>\n",
              "      <th>False</th>\n",
              "      <td>699.624277</td>\n",
              "    </tr>\n",
              "    <tr>\n",
              "      <th>...</th>\n",
              "      <th>...</th>\n",
              "      <th>...</th>\n",
              "      <th>...</th>\n",
              "      <th>...</th>\n",
              "      <th>...</th>\n",
              "      <th>...</th>\n",
              "      <th>...</th>\n",
              "      <td>...</td>\n",
              "    </tr>\n",
              "    <tr>\n",
              "      <th rowspan=\"5\" valign=\"top\">True</th>\n",
              "      <th rowspan=\"5\" valign=\"top\">True</th>\n",
              "      <th rowspan=\"4\" valign=\"top\">False</th>\n",
              "      <th rowspan=\"3\" valign=\"top\">False</th>\n",
              "      <th rowspan=\"2\" valign=\"top\">False</th>\n",
              "      <th>False</th>\n",
              "      <th>True</th>\n",
              "      <th>False</th>\n",
              "      <td>2686.281250</td>\n",
              "    </tr>\n",
              "    <tr>\n",
              "      <th>True</th>\n",
              "      <th>False</th>\n",
              "      <th>False</th>\n",
              "      <td>244.000000</td>\n",
              "    </tr>\n",
              "    <tr>\n",
              "      <th>True</th>\n",
              "      <th>False</th>\n",
              "      <th>False</th>\n",
              "      <th>False</th>\n",
              "      <td>441.278689</td>\n",
              "    </tr>\n",
              "    <tr>\n",
              "      <th>True</th>\n",
              "      <th>False</th>\n",
              "      <th>False</th>\n",
              "      <th>False</th>\n",
              "      <th>False</th>\n",
              "      <td>219.867925</td>\n",
              "    </tr>\n",
              "    <tr>\n",
              "      <th>True</th>\n",
              "      <th>False</th>\n",
              "      <th>False</th>\n",
              "      <th>False</th>\n",
              "      <th>False</th>\n",
              "      <th>False</th>\n",
              "      <td>458.538462</td>\n",
              "    </tr>\n",
              "  </tbody>\n",
              "</table>\n",
              "<p>70 rows × 1 columns</p>\n",
              "</div>"
            ],
            "text/plain": [
              "                                                                     votes\n",
              "                                                                      mean\n",
              "Adventure Comedy Crime Family Fantasy Mystery Sci-Fi Thriller             \n",
              "False     False  False False  False   False   False  False      116.696826\n",
              "                                                     True      2337.699115\n",
              "                                              True   False      278.133333\n",
              "                                                     True      1067.435484\n",
              "                                      True    False  False      699.624277\n",
              "...                                                                    ...\n",
              "True      True   False False  False   False   True   False     2686.281250\n",
              "                                      True    False  False      244.000000\n",
              "                              True    False   False  False      441.278689\n",
              "                       True   False   False   False  False      219.867925\n",
              "                 True  False  False   False   False  False      458.538462\n",
              "\n",
              "[70 rows x 1 columns]"
            ]
          },
          "execution_count": 43,
          "metadata": {},
          "output_type": "execute_result"
        }
      ],
      "source": [
        "#this outputs the mean of every single game\n",
        "#that isnt an Action game\n",
        "#---------------------\n",
        "\n",
        "df.groupby(['Adventure',\n",
        "'Comedy', 'Crime', 'Family', 'Fantasy',\n",
        "'Mystery', 'Sci-Fi', 'Thriller']).agg( {\n",
        "    'votes': ['mean'],\n",
        "    })"
      ]
    },
    {
      "cell_type": "markdown",
      "metadata": {},
      "source": [
        "### 11. What game are platformers?"
      ]
    },
    {
      "cell_type": "code",
      "execution_count": 40,
      "metadata": {},
      "outputs": [
        {
          "data": {
            "text/plain": [
              "434           Sonic and the Fallen Star\n",
              "446                      007: Nightfire\n",
              "448                              Roblox\n",
              "474      T2: Terminator 2: Judgment Day\n",
              "838                       A Hat in Time\n",
              "                      ...              \n",
              "19627                              20XX\n",
              "19683                            Alien³\n",
              "19723                     Creator Crate\n",
              "19835                There Came an Echo\n",
              "20303                          SandShip\n",
              "Name: name, Length: 269, dtype: object"
            ]
          },
          "execution_count": 40,
          "metadata": {},
          "output_type": "execute_result"
        }
      ],
      "source": [
        "#where is that..?\n",
        "#\"if platform\" is in the plot \n",
        "\n",
        "platform = df[df['plot summary'].str.contains('platform')]\n",
        "platform['name']\n"
      ]
    },
    {
      "cell_type": "markdown",
      "metadata": {},
      "source": [
        "### 12. What is the most common certificate of games with ratings greater than 8.0 and votes greater than 1000?"
      ]
    },
    {
      "cell_type": "code",
      "execution_count": 208,
      "metadata": {},
      "outputs": [
        {
          "data": {
            "text/plain": [
              "0    M\n",
              "Name: certificate, dtype: object"
            ]
          },
          "execution_count": 208,
          "metadata": {},
          "output_type": "execute_result"
        }
      ],
      "source": [
        "# Both have M as the output\n",
        "most_certif = df[(df['rating'] > 8.0)]\n",
        "most_certif[['certificate']].mode()\n",
        "\n",
        "\n",
        "greater_votes = df[(df['votes'] > 1000)]\n",
        "greater_votes['votes'].sort_values(ascending=False)\n",
        "greater_votes['certificate'].mode()"
      ]
    },
    {
      "cell_type": "markdown",
      "metadata": {},
      "source": [
        "### 13. For games with ratings greater than the 75th percentile for ratings and a number of votes greater than the 75th percentile for votes, what is the most common genre?"
      ]
    },
    {
      "cell_type": "code",
      "execution_count": 192,
      "metadata": {},
      "outputs": [
        {
          "name": "stdout",
          "output_type": "stream",
          "text": [
            "Action : 1102\n",
            "Adventure : 993\n",
            "Sci-Fi : 186\n",
            "Thriller : 55\n",
            "Family : 113\n",
            "Crime : 150\n",
            "Comedy : 151\n",
            "Fantasy : 443\n",
            "Mystery : 121\n"
          ]
        }
      ],
      "source": [
        "rating_threshold = df.rating.quantile(0.75)\n",
        "votes_threshold = df.votes.quantile(0.75)\n",
        "# --------------------------------------------------\n",
        "\n",
        "genres = ['Action', 'Adventure', 'Sci-Fi', 'Thriller', 'Family',\n",
        "        'Crime', 'Comedy', 'Fantasy', 'Mystery']\n",
        "good_games = df[(df.rating > rating_threshold) & (df.votes > votes_threshold)]\n",
        "\n",
        "for genre in genres:\n",
        "    print(genre,':', len(good_games[good_games[genre]==True]))\n",
        "\n",
        "# or the longer verson:\n",
        "\n",
        "# good_action_games = good_games[good_games.Action==True]\n",
        "# print('Action:', len(good_action_games))\n",
        "\n",
        "# good_adventure_games = good_games[good_games.Adventure==True]\n",
        "# print('Adventure:', len(good_adventure_games))"
      ]
    },
    {
      "cell_type": "markdown",
      "metadata": {},
      "source": [
        "### 14. What are the average ratings by year?"
      ]
    },
    {
      "cell_type": "code",
      "execution_count": 143,
      "metadata": {},
      "outputs": [
        {
          "data": {
            "text/plain": [
              "year\n",
              "1952.0         7.0\n",
              "1962.0         6.8\n",
              "1964.0     unrated\n",
              "1969.0        6.95\n",
              "1970.0         4.3\n",
              "1971.0       6.775\n",
              "1972.0    4.855556\n",
              "1973.0        5.08\n",
              "1974.0        5.22\n",
              "1975.0    6.166667\n",
              "1976.0    4.990909\n",
              "1977.0    5.121429\n",
              "1978.0        4.85\n",
              "1979.0    5.095652\n",
              "1980.0    5.118367\n",
              "1981.0    5.581034\n",
              "1982.0    6.409412\n",
              "1983.0    6.317045\n",
              "1984.0    6.371591\n",
              "1985.0    6.345679\n",
              "Name: rating, dtype: object"
            ]
          },
          "execution_count": 143,
          "metadata": {},
          "output_type": "execute_result"
        }
      ],
      "source": [
        "# df.groupby(['year', 'rating']).agg( {\n",
        "#     'rating' : ['mean']\n",
        "# })\n",
        "\n",
        "#other way to do it:\n",
        "df.groupby(['year']).rating.mean().fillna('unrated').head(20)"
      ]
    },
    {
      "cell_type": "markdown",
      "metadata": {},
      "source": [
        "### 15. For each cerficate, what was the average rating and average number of votes?"
      ]
    },
    {
      "cell_type": "code",
      "execution_count": 202,
      "metadata": {},
      "outputs": [
        {
          "name": "stdout",
          "output_type": "stream",
          "text": [
            "Average Rating: certificate\n",
            "12           7.350000\n",
            "AO           6.493333\n",
            "Approved     6.900000\n",
            "CE           5.520000\n",
            "E            7.085637\n",
            "E10+         7.181231\n",
            "EC           6.142857\n",
            "G            5.600000\n",
            "GA           6.531579\n",
            "K-A          6.913089\n",
            "M            7.515584\n",
            "MA-13        7.080000\n",
            "MA-17        6.000000\n",
            "Not Rated    6.703650\n",
            "PG           5.933333\n",
            "PG-13        6.628571\n",
            "Passed       4.700000\n",
            "T            7.295178\n",
            "TV-14        7.000000\n",
            "TV-MA        7.000000\n",
            "Unrated      6.478222\n",
            "Name: rating, dtype: float64\n",
            "Average Votes: certificate\n",
            "12             31.375000\n",
            "AO            246.333333\n",
            "Approved       52.333333\n",
            "CE             12.600000\n",
            "E             332.329063\n",
            "E10+          520.265766\n",
            "EC             18.857143\n",
            "G              11.500000\n",
            "GA            165.105263\n",
            "K-A           349.324607\n",
            "M            2498.627557\n",
            "MA-13          83.200000\n",
            "MA-17         165.666667\n",
            "Not Rated     110.759124\n",
            "PG            106.333333\n",
            "PG-13         119.000000\n",
            "Passed         19.000000\n",
            "T             829.020862\n",
            "TV-14         127.000000\n",
            "TV-MA           8.000000\n",
            "Unrated       135.973333\n",
            "Name: votes, dtype: float64\n"
          ]
        }
      ],
      "source": [
        "cert_rating = df.groupby('certificate').rating.mean()\n",
        "cert_votes = df.groupby('certificate').votes.mean()\n",
        "\n",
        "print('Average Rating:', cert_rating)\n",
        "print('Average Votes:', cert_votes)"
      ]
    }
  ],
  "metadata": {
    "colab": {
      "authorship_tag": "ABX9TyPG+ssWMxKywRQDkeiR9E1U",
      "include_colab_link": true,
      "mount_file_id": "1V16IS1TA0CmRy78Zy03QMP9hHtjmYEcW",
      "name": "EDA_10Steps.ipynb",
      "provenance": []
    },
    "kernelspec": {
      "display_name": "Python 3.9.12 ('base')",
      "language": "python",
      "name": "python3"
    },
    "language_info": {
      "codemirror_mode": {
        "name": "ipython",
        "version": 3
      },
      "file_extension": ".py",
      "mimetype": "text/x-python",
      "name": "python",
      "nbconvert_exporter": "python",
      "pygments_lexer": "ipython3",
      "version": "3.9.12"
    },
    "vscode": {
      "interpreter": {
        "hash": "7a374d325b2a22834d4e33ac773a956626ceb6c6bed0ca0b238194518e4c1694"
      }
    }
  },
  "nbformat": 4,
  "nbformat_minor": 0
}
